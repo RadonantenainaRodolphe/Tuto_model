{
 "cells": [
  {
   "cell_type": "code",
   "execution_count": 2,
   "metadata": {},
   "outputs": [
    {
     "name": "stderr",
     "output_type": "stream",
     "text": [
      "Matplotlib is building the font cache; this may take a moment.\n"
     ]
    }
   ],
   "source": [
    "import numpy as np\n",
    "import pandas as pd\n",
    "import seaborn as sns\n",
    "import matplotlib as plt"
   ]
  },
  {
   "cell_type": "code",
   "execution_count": 9,
   "metadata": {},
   "outputs": [],
   "source": [
    "#Importation des données\n",
    "df = pd.read_excel('C:\\IDEA\\Data\\donnee_macro.xlsx')"
   ]
  },
  {
   "cell_type": "code",
   "execution_count": 10,
   "metadata": {},
   "outputs": [
    {
     "data": {
      "text/html": [
       "<div>\n",
       "<style scoped>\n",
       "    .dataframe tbody tr th:only-of-type {\n",
       "        vertical-align: middle;\n",
       "    }\n",
       "\n",
       "    .dataframe tbody tr th {\n",
       "        vertical-align: top;\n",
       "    }\n",
       "\n",
       "    .dataframe thead th {\n",
       "        text-align: right;\n",
       "    }\n",
       "</style>\n",
       "<table border=\"1\" class=\"dataframe\">\n",
       "  <thead>\n",
       "    <tr style=\"text-align: right;\">\n",
       "      <th></th>\n",
       "      <th>Unnamed: 0</th>\n",
       "      <th>2007</th>\n",
       "      <th>2008</th>\n",
       "      <th>2009</th>\n",
       "      <th>2010</th>\n",
       "      <th>2011</th>\n",
       "      <th>2012</th>\n",
       "      <th>2013</th>\n",
       "      <th>2014</th>\n",
       "      <th>2015</th>\n",
       "      <th>2016</th>\n",
       "      <th>2017</th>\n",
       "      <th>2018</th>\n",
       "      <th>2019</th>\n",
       "      <th>2020</th>\n",
       "      <th>2021</th>\n",
       "    </tr>\n",
       "  </thead>\n",
       "  <tbody>\n",
       "    <tr>\n",
       "      <th>0</th>\n",
       "      <td>Secteur Primaire</td>\n",
       "      <td>4483.449453</td>\n",
       "      <td>4956.710886</td>\n",
       "      <td>5731.285116</td>\n",
       "      <td>6066.670121</td>\n",
       "      <td>6795.944730</td>\n",
       "      <td>7116.485637</td>\n",
       "      <td>7263.786019</td>\n",
       "      <td>7815.794640</td>\n",
       "      <td>8550.957776</td>\n",
       "      <td>9459.625499</td>\n",
       "      <td>10080.002413</td>\n",
       "      <td>11000.499065</td>\n",
       "      <td>11715.772915</td>\n",
       "      <td>12207.117415</td>\n",
       "      <td>12926.132931</td>\n",
       "    </tr>\n",
       "    <tr>\n",
       "      <th>1</th>\n",
       "      <td>Secteur Secondaire</td>\n",
       "      <td>1735.391700</td>\n",
       "      <td>2125.588293</td>\n",
       "      <td>2089.086688</td>\n",
       "      <td>2366.402921</td>\n",
       "      <td>2567.461879</td>\n",
       "      <td>2851.251423</td>\n",
       "      <td>3412.985114</td>\n",
       "      <td>4080.296702</td>\n",
       "      <td>4183.015365</td>\n",
       "      <td>5031.092271</td>\n",
       "      <td>5548.657230</td>\n",
       "      <td>6776.355975</td>\n",
       "      <td>7662.019303</td>\n",
       "      <td>6190.789477</td>\n",
       "      <td>8167.088968</td>\n",
       "    </tr>\n",
       "    <tr>\n",
       "      <th>2</th>\n",
       "      <td>Secteur Tertiaire</td>\n",
       "      <td>8958.837984</td>\n",
       "      <td>10373.319903</td>\n",
       "      <td>10298.810966</td>\n",
       "      <td>11562.323186</td>\n",
       "      <td>13103.585783</td>\n",
       "      <td>14489.960497</td>\n",
       "      <td>15617.782731</td>\n",
       "      <td>17106.928699</td>\n",
       "      <td>18974.950090</td>\n",
       "      <td>21473.550728</td>\n",
       "      <td>23669.502005</td>\n",
       "      <td>25445.627086</td>\n",
       "      <td>29210.361335</td>\n",
       "      <td>28344.550731</td>\n",
       "      <td>31560.602517</td>\n",
       "    </tr>\n",
       "    <tr>\n",
       "      <th>3</th>\n",
       "      <td>SIFIM*</td>\n",
       "      <td>-253.517636</td>\n",
       "      <td>-409.927608</td>\n",
       "      <td>-393.672154</td>\n",
       "      <td>-441.615388</td>\n",
       "      <td>-530.397978</td>\n",
       "      <td>-597.585670</td>\n",
       "      <td>-634.116478</td>\n",
       "      <td>-676.400262</td>\n",
       "      <td>-664.150225</td>\n",
       "      <td>-817.791207</td>\n",
       "      <td>-887.695930</td>\n",
       "      <td>-775.443438</td>\n",
       "      <td>-949.847942</td>\n",
       "      <td>-1222.738240</td>\n",
       "      <td>-1290.665032</td>\n",
       "    </tr>\n",
       "    <tr>\n",
       "      <th>4</th>\n",
       "      <td>PIB aux prix de base</td>\n",
       "      <td>14924.161501</td>\n",
       "      <td>17045.691474</td>\n",
       "      <td>17725.510615</td>\n",
       "      <td>19553.780839</td>\n",
       "      <td>21936.594414</td>\n",
       "      <td>23860.111887</td>\n",
       "      <td>25660.437385</td>\n",
       "      <td>28326.619779</td>\n",
       "      <td>31044.773006</td>\n",
       "      <td>35146.477291</td>\n",
       "      <td>38410.465718</td>\n",
       "      <td>42447.038688</td>\n",
       "      <td>47638.305612</td>\n",
       "      <td>45519.719383</td>\n",
       "      <td>51363.159383</td>\n",
       "    </tr>\n",
       "  </tbody>\n",
       "</table>\n",
       "</div>"
      ],
      "text/plain": [
       "             Unnamed: 0          2007          2008          2009   \n",
       "0      Secteur Primaire   4483.449453   4956.710886   5731.285116  \\\n",
       "1    Secteur Secondaire   1735.391700   2125.588293   2089.086688   \n",
       "2     Secteur Tertiaire   8958.837984  10373.319903  10298.810966   \n",
       "3                SIFIM*   -253.517636   -409.927608   -393.672154   \n",
       "4  PIB aux prix de base  14924.161501  17045.691474  17725.510615   \n",
       "\n",
       "           2010          2011          2012          2013          2014   \n",
       "0   6066.670121   6795.944730   7116.485637   7263.786019   7815.794640  \\\n",
       "1   2366.402921   2567.461879   2851.251423   3412.985114   4080.296702   \n",
       "2  11562.323186  13103.585783  14489.960497  15617.782731  17106.928699   \n",
       "3   -441.615388   -530.397978   -597.585670   -634.116478   -676.400262   \n",
       "4  19553.780839  21936.594414  23860.111887  25660.437385  28326.619779   \n",
       "\n",
       "           2015          2016          2017          2018          2019   \n",
       "0   8550.957776   9459.625499  10080.002413  11000.499065  11715.772915  \\\n",
       "1   4183.015365   5031.092271   5548.657230   6776.355975   7662.019303   \n",
       "2  18974.950090  21473.550728  23669.502005  25445.627086  29210.361335   \n",
       "3   -664.150225   -817.791207   -887.695930   -775.443438   -949.847942   \n",
       "4  31044.773006  35146.477291  38410.465718  42447.038688  47638.305612   \n",
       "\n",
       "           2020          2021  \n",
       "0  12207.117415  12926.132931  \n",
       "1   6190.789477   8167.088968  \n",
       "2  28344.550731  31560.602517  \n",
       "3  -1222.738240  -1290.665032  \n",
       "4  45519.719383  51363.159383  "
      ]
     },
     "execution_count": 10,
     "metadata": {},
     "output_type": "execute_result"
    }
   ],
   "source": [
    "#Afficher l'entête\n",
    "df.head()"
   ]
  },
  {
   "cell_type": "code",
   "execution_count": 11,
   "metadata": {},
   "outputs": [
    {
     "data": {
      "text/plain": [
       "(17, 16)"
      ]
     },
     "execution_count": 11,
     "metadata": {},
     "output_type": "execute_result"
    }
   ],
   "source": [
    "#Afficher la dimension\n",
    "df.shape"
   ]
  },
  {
   "cell_type": "code",
   "execution_count": 12,
   "metadata": {},
   "outputs": [
    {
     "data": {
      "text/plain": [
       "<Axes: >"
      ]
     },
     "execution_count": 12,
     "metadata": {},
     "output_type": "execute_result"
    },
    {
     "data": {
      "image/png": "[encoded data removed]",
      "text/plain": [
       "<Figure size 640x480 with 1 Axes>"
      ]
     },
     "metadata": {},
     "output_type": "display_data"
    }
   ],
   "source": [
    "#Visualiser les données avec seaborn\n",
    "sns.heatmap(df.isna(), cbar=False)"
   ]
  },
  {
   "cell_type": "code",
   "execution_count": null,
   "metadata": {},
   "outputs": [],
   "source": []
  }
 ],
 "metadata": {
  "kernelspec": {
   "display_name": ".env",
   "language": "python",
   "name": "python3"
  },
  "language_info": {
   "codemirror_mode": {
    "name": "ipython",
    "version": 3
   },
   "file_extension": ".py",
   "mimetype": "text/x-python",
   "name": "python",
   "nbconvert_exporter": "python",
   "pygments_lexer": "ipython3",
   "version": "3.10.11"
  },
  "orig_nbformat": 4
 },
 "nbformat": 4,
 "nbformat_minor": 2
}
